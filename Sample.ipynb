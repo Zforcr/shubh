{
 "cells": [
  {
   "cell_type": "code",
   "execution_count": 9,
   "metadata": {},
   "outputs": [],
   "source": [
    "import argparse\n",
    "import json\n",
    "import os\n",
    "\n",
    "import torch\n",
    "\n",
    "from dataset import ECG_DataModule\n",
    "from trainer import Trainer\n",
    "from model import RNNModel  # Import the model\n",
    "\n",
    "import torch.optim as optim\n",
    "import torch.nn as nn"
   ]
  },
  {
   "cell_type": "code",
   "execution_count": 11,
   "metadata": {},
   "outputs": [
    {
     "name": "stdout",
     "output_type": "stream",
     "text": [
      "🔄 Starting main function\n",
      "Loaded dataset for training: 10000\n",
      "Loaded dataset for test: 2000\n",
      "Number of unique classes: 3\n",
      "✅ Train DataLoader size: 313\n",
      "✅ Test DataLoader size: 63\n",
      "🚀 Initializing Trainer...\n",
      "🔥 Starting training now...\n",
      "🚀 Training Started!\n"
     ]
    },
    {
     "name": "stderr",
     "output_type": "stream",
     "text": [
      "100%|██████████| 313/313 [00:02<00:00, 151.90it/s, loss=0.9489]\n"
     ]
    },
    {
     "name": "stdout",
     "output_type": "stream",
     "text": [
      "- [001/010] Train loss: 1.0937, Train acc: 0.3973, learning rate: 0.001000\n"
     ]
    },
    {
     "name": "stderr",
     "output_type": "stream",
     "text": [
      "100%|██████████| 63/63 [00:00<00:00, 294.98it/s, loss=1.0802]\n",
      "c:\\Users\\shubh\\OneDrive\\Desktop\\dummy\\trainer.py:120: FutureWarning: The behavior of DataFrame concatenation with empty or all-NA entries is deprecated. In a future version, this will no longer exclude empty or all-NA columns when determining the result dtypes. To retain the old behavior, exclude the relevant entries before the concat operation.\n",
      "  self.metrics_df = pd.concat(\n"
     ]
    },
    {
     "name": "stdout",
     "output_type": "stream",
     "text": [
      "- [001/010] Validation loss: 1.0766, Validation acc: 0.4185\n",
      "******************************\n"
     ]
    },
    {
     "name": "stderr",
     "output_type": "stream",
     "text": [
      "100%|██████████| 313/313 [00:02<00:00, 148.69it/s, loss=1.1438]\n"
     ]
    },
    {
     "name": "stdout",
     "output_type": "stream",
     "text": [
      "- [002/010] Train loss: 0.9492, Train acc: 0.5587, learning rate: 0.001000\n"
     ]
    },
    {
     "name": "stderr",
     "output_type": "stream",
     "text": [
      "100%|██████████| 63/63 [00:00<00:00, 373.87it/s, loss=1.0768]\n"
     ]
    },
    {
     "name": "stdout",
     "output_type": "stream",
     "text": [
      "- [002/010] Validation loss: 0.9930, Validation acc: 0.5235\n",
      "******************************\n"
     ]
    },
    {
     "name": "stderr",
     "output_type": "stream",
     "text": [
      "100%|██████████| 313/313 [00:02<00:00, 152.56it/s, loss=0.7661]\n"
     ]
    },
    {
     "name": "stdout",
     "output_type": "stream",
     "text": [
      "- [003/010] Train loss: 0.7240, Train acc: 0.6909, learning rate: 0.001000\n"
     ]
    },
    {
     "name": "stderr",
     "output_type": "stream",
     "text": [
      "100%|██████████| 63/63 [00:00<00:00, 325.37it/s, loss=1.0227]\n"
     ]
    },
    {
     "name": "stdout",
     "output_type": "stream",
     "text": [
      "- [003/010] Validation loss: 0.9516, Validation acc: 0.5750\n",
      "******************************\n"
     ]
    },
    {
     "name": "stderr",
     "output_type": "stream",
     "text": [
      "100%|██████████| 313/313 [00:02<00:00, 150.32it/s, loss=0.6138]\n"
     ]
    },
    {
     "name": "stdout",
     "output_type": "stream",
     "text": [
      "- [004/010] Train loss: 0.4746, Train acc: 0.8159, learning rate: 0.001000\n"
     ]
    },
    {
     "name": "stderr",
     "output_type": "stream",
     "text": [
      "100%|██████████| 63/63 [00:00<00:00, 422.21it/s, loss=0.5831]\n"
     ]
    },
    {
     "name": "stdout",
     "output_type": "stream",
     "text": [
      "- [004/010] Validation loss: 1.0167, Validation acc: 0.6140\n",
      "******************************\n"
     ]
    },
    {
     "name": "stderr",
     "output_type": "stream",
     "text": [
      "100%|██████████| 313/313 [00:01<00:00, 158.50it/s, loss=0.2460]\n"
     ]
    },
    {
     "name": "stdout",
     "output_type": "stream",
     "text": [
      "- [005/010] Train loss: 0.3096, Train acc: 0.8808, learning rate: 0.001000\n"
     ]
    },
    {
     "name": "stderr",
     "output_type": "stream",
     "text": [
      "100%|██████████| 63/63 [00:00<00:00, 264.07it/s, loss=1.1326]\n"
     ]
    },
    {
     "name": "stdout",
     "output_type": "stream",
     "text": [
      "- [005/010] Validation loss: 1.2012, Validation acc: 0.6310\n",
      "******************************\n"
     ]
    },
    {
     "name": "stderr",
     "output_type": "stream",
     "text": [
      "100%|██████████| 313/313 [00:02<00:00, 156.13it/s, loss=0.0766]\n"
     ]
    },
    {
     "name": "stdout",
     "output_type": "stream",
     "text": [
      "- [006/010] Train loss: 0.1367, Train acc: 0.9586, learning rate: 0.000100\n"
     ]
    },
    {
     "name": "stderr",
     "output_type": "stream",
     "text": [
      "100%|██████████| 63/63 [00:00<00:00, 356.37it/s, loss=1.1107]\n"
     ]
    },
    {
     "name": "stdout",
     "output_type": "stream",
     "text": [
      "- [006/010] Validation loss: 1.1501, Validation acc: 0.6490\n",
      "******************************\n"
     ]
    },
    {
     "name": "stderr",
     "output_type": "stream",
     "text": [
      "100%|██████████| 313/313 [00:02<00:00, 142.15it/s, loss=0.0251]\n"
     ]
    },
    {
     "name": "stdout",
     "output_type": "stream",
     "text": [
      "- [007/010] Train loss: 0.0611, Train acc: 0.9935, learning rate: 0.000100\n"
     ]
    },
    {
     "name": "stderr",
     "output_type": "stream",
     "text": [
      "100%|██████████| 63/63 [00:00<00:00, 416.87it/s, loss=1.1662]\n"
     ]
    },
    {
     "name": "stdout",
     "output_type": "stream",
     "text": [
      "- [007/010] Validation loss: 1.1915, Validation acc: 0.6540\n",
      "******************************\n"
     ]
    },
    {
     "name": "stderr",
     "output_type": "stream",
     "text": [
      "100%|██████████| 313/313 [00:02<00:00, 143.70it/s, loss=0.0418]\n"
     ]
    },
    {
     "name": "stdout",
     "output_type": "stream",
     "text": [
      "- [008/010] Train loss: 0.0367, Train acc: 0.9984, learning rate: 0.000100\n"
     ]
    },
    {
     "name": "stderr",
     "output_type": "stream",
     "text": [
      "100%|██████████| 63/63 [00:00<00:00, 225.89it/s, loss=1.2022]\n"
     ]
    },
    {
     "name": "stdout",
     "output_type": "stream",
     "text": [
      "- [008/010] Validation loss: 1.2430, Validation acc: 0.6550\n",
      "******************************\n"
     ]
    },
    {
     "name": "stderr",
     "output_type": "stream",
     "text": [
      "100%|██████████| 313/313 [00:02<00:00, 138.81it/s, loss=0.0318]\n"
     ]
    },
    {
     "name": "stdout",
     "output_type": "stream",
     "text": [
      "- [009/010] Train loss: 0.0242, Train acc: 0.9994, learning rate: 0.000100\n"
     ]
    },
    {
     "name": "stderr",
     "output_type": "stream",
     "text": [
      "100%|██████████| 63/63 [00:00<00:00, 342.09it/s, loss=1.2384]\n"
     ]
    },
    {
     "name": "stdout",
     "output_type": "stream",
     "text": [
      "- [009/010] Validation loss: 1.2943, Validation acc: 0.6530\n",
      "******************************\n"
     ]
    },
    {
     "name": "stderr",
     "output_type": "stream",
     "text": [
      "100%|██████████| 313/313 [00:02<00:00, 144.98it/s, loss=0.0046]\n"
     ]
    },
    {
     "name": "stdout",
     "output_type": "stream",
     "text": [
      "- [010/010] Train loss: 0.0168, Train acc: 0.9996, learning rate: 0.000100\n"
     ]
    },
    {
     "name": "stderr",
     "output_type": "stream",
     "text": [
      "100%|██████████| 63/63 [00:00<00:00, 385.24it/s, loss=1.2713]\n"
     ]
    },
    {
     "name": "stdout",
     "output_type": "stream",
     "text": [
      "- [010/010] Validation loss: 1.3416, Validation acc: 0.6535\n",
      "******************************\n",
      "End of training. Total time: 23.29025 seconds\n"
     ]
    },
    {
     "data": {
      "image/png": "[encoded data removed]",
      "text/plain": [
       "<Figure size 640x480 with 1 Axes>"
      ]
     },
     "metadata": {},
     "output_type": "display_data"
    },
    {
     "name": "stdout",
     "output_type": "stream",
     "text": [
      "✅ Training completed!\n"
     ]
    }
   ],
   "source": [
    "def main(dataset=\"icentia11k\", dataset_path=\"./data/icentia11k.pkl\", batch_size=32, seed=None):\n",
    "    # Dataloader\n",
    "    data_module = ECG_DataModule(dataset, dataset_path, batch_size=batch_size, seed=seed)\n",
    "    train_loader = data_module.train_dataloader()\n",
    "    test_loader = data_module.test_dataloader()\n",
    "    \n",
    "    print(f\"✅ Train DataLoader size: {len(train_loader)}\")\n",
    "    print(f\"✅ Test DataLoader size: {len(test_loader)}\")\n",
    "\n",
    "    # Model\n",
    "    model = RNNModel(input_size=2049, hidden_size=128, num_layers=2, num_classes=data_module.num_classes)\n",
    "    model.to(\"cuda\" if torch.cuda.is_available() else \"cpu\")\n",
    "\n",
    "    # Define loss function and optimizer\n",
    "    criterion = nn.CrossEntropyLoss()\n",
    "    optimizer = optim.Adam(model.parameters(), lr=0.001)\n",
    "    scheduler = optim.lr_scheduler.StepLR(optimizer, step_size=5, gamma=0.1)\n",
    "\n",
    "    # Initialize Trainer\n",
    "    print(\"🚀 Initializing Trainer...\")\n",
    "    trainer = Trainer(model, criterion, optimizer, scheduler, \n",
    "                      device=\"cuda\" if torch.cuda.is_available() else \"cpu\",\n",
    "                      result_dir=\"./results\", num_classes=data_module.num_classes)\n",
    "    \n",
    "    print(\"🔥 Starting training now...\")\n",
    "    trainer.fit(train_loader, test_loader, epochs=10)  # <--- Check if this runs\n",
    "    print(\"✅ Training completed!\")\n",
    "\n",
    "if __name__ == \"__main__\":\n",
    "    print(\"🔄 Starting main function\")\n",
    "    main()"
   ]
  }
 ],
 "metadata": {
  "kernelspec": {
   "display_name": "Python 3",
   "language": "python",
   "name": "python3"
  },
  "language_info": {
   "codemirror_mode": {
    "name": "ipython",
    "version": 3
   },
   "file_extension": ".py",
   "mimetype": "text/x-python",
   "name": "python",
   "nbconvert_exporter": "python",
   "pygments_lexer": "ipython3",
   "version": "3.12.6"
  }
 },
 "nbformat": 4,
 "nbformat_minor": 2
}
